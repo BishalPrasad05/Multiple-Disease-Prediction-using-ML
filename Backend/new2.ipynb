{
 "cells": [
  {
   "cell_type": "code",
   "execution_count": null,
   "id": "299b3958",
   "metadata": {},
   "outputs": [],
   "source": [
    "\n",
    "\n",
    "\n",
    "sample_input = {\n",
    "    'V6279': 33.4,\n",
    "    'AVR199': -18.0,\n",
    "    'V2237': 0.8,\n",
    "    'V302': 52.0,\n",
    "    'V2233': -7.3,\n",
    "    'T_Wave': 2.0,\n",
    "    'V3243': -5.9,\n",
    "    'V3242': 0.8,\n",
    "    'AVF00': 0.0,\n",
    "    'QRS_Dur': 63.0, \n",
    "    'DII177': -0.3,\n",
    "    'V4257': 1.0,\n",
    "    'Q-T_Int': 400.0,\n",
    "    'V105': 0.7,\n",
    "    'V5267': -1.0,\n",
    "    'V1224': 0.3,\n",
    "    'AVR197': 0.1,\n",
    "    'V1228': 1.1,\n",
    "    'V6277': -0.8,\n",
    "    'V103': 0.6\n",
    "}"
   ]
  },
  {
   "cell_type": "code",
   "execution_count": 10,
   "id": "be7832c7",
   "metadata": {},
   "outputs": [],
   "source": [
    "sample_input = {\n",
    "        \"V6279\": 0.53, \"AVR199\": -1.12, \"V2237\": 1.25, \"V302\": 0.85, \"V2233\": -0.48,\n",
    "        \"T_Wave\": 1.37, \"V3243\": 0.69, \"V3242\": -1.05, \"AVF00\": 0.91, \"QRS_Dur\": 92.0,\n",
    "        \"DII177\": -0.27, \"V4257\": 1.03, \"Q-T_Int\": 396.0, \"V105\": 0.71, \"V5267\": -1.02,\n",
    "        \"V1224\": 0.34, \"AVR197\": 0.12, \"V1228\": 1.14, \"V6277\": -0.83, \"V103\": 0.67,\n",
    "           }"
   ]
  },
  {
   "cell_type": "code",
   "execution_count": 6,
   "id": "9d9b15b7",
   "metadata": {},
   "outputs": [
    {
     "name": "stdout",
     "output_type": "stream",
     "text": [
      "Accuracy: 0.7142857142857143\n",
      "\n",
      "Classification Report:\n",
      "               precision    recall  f1-score   support\n",
      "\n",
      "         1.0       0.73      0.94      0.82        49\n",
      "         2.0       0.60      0.67      0.63         9\n",
      "         3.0       0.50      1.00      0.67         3\n",
      "         4.0       1.00      0.67      0.80         3\n",
      "         5.0       0.00      0.00      0.00         3\n",
      "         6.0       0.00      0.00      0.00         5\n",
      "         7.0       0.00      0.00      0.00         1\n",
      "         9.0       1.00      1.00      1.00         2\n",
      "        10.0       0.75      0.60      0.67        10\n",
      "        14.0       0.00      0.00      0.00         1\n",
      "        15.0       0.00      0.00      0.00         1\n",
      "        16.0       0.00      0.00      0.00         4\n",
      "\n",
      "    accuracy                           0.71        91\n",
      "   macro avg       0.38      0.41      0.38        91\n",
      "weighted avg       0.61      0.71      0.65        91\n",
      "\n",
      "✅ Model saved as arrhythmia_rf_top20_model.pkl\n"
     ]
    }
   ],
   "source": [
    "import pandas as pd\n",
    "import pickle\n",
    "from sklearn.ensemble import RandomForestClassifier\n",
    "from sklearn.model_selection import train_test_split\n",
    "from sklearn.metrics import classification_report, accuracy_score\n",
    "\n",
    "# Load dataset\n",
    "df = pd.read_csv(\"new data with target class.csv\")\n",
    "\n",
    "# Drop index column\n",
    "df = df.drop(columns=[\"Unnamed: 0\"])\n",
    "\n",
    "# Use top 20 features from earlier selection\n",
    "selected_features = [\n",
    "    'V6279', 'AVR199', 'V2237', 'V302', 'V2233', 'T_Wave', 'V3243', 'V3242', 'AVF00',\n",
    "    'QRS_Dur', 'DII177', 'V4257', 'Q-T_Int', 'V105', 'V5267', 'V1224', 'AVR197',\n",
    "    'V1228', 'V6277', 'V103'\n",
    "]\n",
    "\n",
    "# Prepare input and target\n",
    "X = df[selected_features]\n",
    "y = df[\"class\"]\n",
    "\n",
    "# Split data\n",
    "X_train, X_test, y_train, y_test = train_test_split(\n",
    "    X, y, test_size=0.2, random_state=42, stratify=y)\n",
    "\n",
    "# Train model\n",
    "model = RandomForestClassifier(n_estimators=100, random_state=42)\n",
    "model.fit(X_train, y_train)\n",
    "\n",
    "# Evaluate model\n",
    "y_pred = model.predict(X_test)\n",
    "print(\"Accuracy:\", accuracy_score(y_test, y_pred))\n",
    "print(\"\\nClassification Report:\\n\", classification_report(\n",
    "    y_test, y_pred, zero_division=0))\n",
    "\n",
    "# Save model with pickle\n",
    "with open(\"arrhythmia_rf_top20_model.pkl\", \"wb\") as f:\n",
    "    pickle.dump(model, f)\n",
    "\n",
    "print(\"✅ Model saved as arrhythmia_rf_top20_model.pkl\")"
   ]
  },
  {
   "cell_type": "code",
   "execution_count": 4,
   "id": "3b08a5a2",
   "metadata": {},
   "outputs": [
    {
     "name": "stdout",
     "output_type": "stream",
     "text": [
      "Sample 1:\n",
      "{'V6279': 47.6, 'AVR199': -41.7, 'V2237': 8.7, 'V302': 36.0, 'V2233': -13.3, 'T_Wave': 2.0, 'V3243': -18.8, 'V3242': 20.4, 'AVF00': 0.0, 'QRS_Dur': 90.0, 'DII177': 2.2, 'V4257': 5.3, 'Q-T_Int': 382.0, 'V105': 24.0, 'V5267': 3.8, 'V1224': 0.0, 'AVR197': -2.1, 'V1228': -15.6, 'V6277': 2.6, 'V103': 0.0, 'class': 1.0}\n",
      "\n",
      "Sample 2:\n",
      "{'V6279': 17.9, 'AVR199': -12.0, 'V2237': 2.6, 'V302': 28.0, 'V2233': -3.7, 'T_Wave': 1.6, 'V3243': -4.0, 'V3242': 8.9, 'AVF00': 0.0, 'QRS_Dur': 94.0, 'DII177': 0.5, 'V4257': 1.5, 'Q-T_Int': 401.0, 'V105': 0.0, 'V5267': 1.5, 'V1224': 0.0, 'AVR197': -1.1, 'V1228': -25.9, 'V6277': 1.0, 'V103': 0.0, 'class': 6.0}\n",
      "\n",
      "Sample 3:\n",
      "{'V6279': 14.4, 'AVR199': -5.9, 'V2237': 1.1, 'V302': 36.0, 'V2233': -5.5, 'T_Wave': 0.7, 'V3243': -19.3, 'V3242': 6.1, 'AVF00': 0.0, 'QRS_Dur': 74.0, 'DII177': 0.7, 'V4257': 6.4, 'Q-T_Int': 384.0, 'V105': 40.0, 'V5267': 2.3, 'V1224': 0.0, 'AVR197': -0.7, 'V1228': -0.5, 'V6277': 0.9, 'V103': 0.0, 'class': 10.0}\n",
      "\n",
      "Sample 4:\n",
      "{'V6279': 47.6, 'AVR199': -34.6, 'V2237': 5.0, 'V302': 52.0, 'V2233': -15.9, 'T_Wave': 1.9, 'V3243': -19.7, 'V3242': 8.5, 'AVF00': 16.0, 'QRS_Dur': 113.0, 'DII177': 2.3, 'V4257': 5.2, 'Q-T_Int': 358.0, 'V105': 16.0, 'V5267': 4.1, 'V1224': 0.0, 'AVR197': -1.9, 'V1228': -26.8, 'V6277': 2.5, 'V103': 0.0, 'class': 16.0}\n",
      "\n",
      "Sample 5:\n",
      "{'V6279': 33.4, 'AVR199': -18.0, 'V2237': 0.8, 'V302': 52.0, 'V2233': -7.3, 'T_Wave': 2.0, 'V3243': -5.9, 'V3242': 0.8, 'AVF00': 0.0, 'QRS_Dur': 63.0, 'DII177': 1.4, 'V4257': 1.8, 'Q-T_Int': 396.0, 'V105': 0.0, 'V5267': 2.1, 'V1224': 0.0, 'AVR197': -1.5, 'V1228': -17.5, 'V6277': 1.5, 'V103': 0.0, 'class': 6.0}\n",
      "\n"
     ]
    }
   ],
   "source": [
    "import pandas as pd\n",
    "\n",
    "# Load the dataset\n",
    "df = pd.read_csv(\"new data with target class.csv\")\n",
    "\n",
    "# Drop the unnamed index column if present\n",
    "df = df.drop(columns=[\"Unnamed: 0\"], errors=\"ignore\")\n",
    "\n",
    "# Define the top 20 selected features + target\n",
    "selected_features = [\n",
    "    'V6279', 'AVR199', 'V2237', 'V302', 'V2233', 'T_Wave', 'V3243', 'V3242', 'AVF00',\n",
    "    'QRS_Dur', 'DII177', 'V4257', 'Q-T_Int', 'V105', 'V5267', 'V1224', 'AVR197',\n",
    "    'V1228', 'V6277', 'V103', 'class'\n",
    "]\n",
    "\n",
    "# Get N random samples as list of dicts\n",
    "N = 5  # You can change this number\n",
    "sample_dicts = df[selected_features].sample(\n",
    "    N, random_state=42).to_dict(orient='records')\n",
    "\n",
    "# Print the list of dictionaries\n",
    "for i, record in enumerate(sample_dicts, 1):\n",
    "    print(f\"Sample {i}:\\n{record}\\n\")"
   ]
  },
  {
   "cell_type": "code",
   "execution_count": 8,
   "id": "414a2f7b",
   "metadata": {},
   "outputs": [
    {
     "name": "stdout",
     "output_type": "stream",
     "text": [
      "Sample 1:\n",
      "{'V6279': 19.5, 'AVR199': -26.9, 'V2237': 3.3, 'V302': 60.0, 'V2233': -18.0, 'T_Wave': -1.9, 'V3243': -22.4, 'V3242': 17.0, 'AVF00': 0.0, 'QRS_Dur': 107.0, 'DII177': -1.7, 'V4257': -2.3, 'Q-T_Int': 359.0, 'V105': 24.0, 'V5267': -2.7, 'V1224': 0.0, 'AVR197': 1.6, 'V1228': -39.9, 'V6277': -2.2, 'V103': 0.0, 'class': 2.0}\n",
      "\n",
      "Sample 2:\n",
      "{'V6279': 38.0, 'AVR199': -28.9, 'V2237': 1.8, 'V302': 28.0, 'V2233': -0.4, 'T_Wave': 1.9, 'V3243': -5.4, 'V3242': 9.3, 'AVF00': 0.0, 'QRS_Dur': 91.0, 'DII177': 1.4, 'V4257': 5.9, 'Q-T_Int': 359.0, 'V105': 72.0, 'V5267': 2.8, 'V1224': 2.4, 'AVR197': -1.5, 'V1228': -8.3, 'V6277': 1.6, 'V103': 32.0, 'class': 10.0}\n",
      "\n",
      "Sample 3:\n",
      "{'V6279': 52.9, 'AVR199': -39.7, 'V2237': 6.4, 'V302': 32.0, 'V2233': -12.0, 'T_Wave': 2.4, 'V3243': -5.1, 'V3242': 3.6, 'AVF00': 0.0, 'QRS_Dur': 87.0, 'DII177': 2.2, 'V4257': 4.5, 'Q-T_Int': 362.0, 'V105': 20.0, 'V5267': 3.7, 'V1224': 0.0, 'AVR197': -2.3, 'V1228': -29.9, 'V6277': 3.0, 'V103': 0.0, 'class': 1.0}\n",
      "\n",
      "Sample 4:\n",
      "{'V6279': 49.9, 'AVR199': -38.3, 'V2237': 0.7, 'V302': 44.0, 'V2233': -18.3, 'T_Wave': 2.6, 'V3243': -23.5, 'V3242': 15.7, 'AVF00': 24.0, 'QRS_Dur': 95.0, 'DII177': 3.3, 'V4257': 3.3, 'Q-T_Int': 347.0, 'V105': 20.0, 'V5267': 3.5, 'V1224': 0.0, 'AVR197': -2.8, 'V1228': -5.8, 'V6277': 3.0, 'V103': 0.0, 'class': 14.0}\n",
      "\n",
      "Sample 5:\n",
      "{'V6279': 19.5, 'AVR199': -20.5, 'V2237': 3.2, 'V302': 92.0, 'V2233': -9.0, 'T_Wave': 0.7, 'V3243': -19.3, 'V3242': 23.5, 'AVF00': 0.0, 'QRS_Dur': 123.0, 'DII177': 2.4, 'V4257': 4.0, 'Q-T_Int': 440.0, 'V105': 88.0, 'V5267': 1.9, 'V1224': 9.1, 'AVR197': -1.7, 'V1228': 30.4, 'V6277': 1.5, 'V103': 72.0, 'class': 10.0}\n",
      "\n"
     ]
    }
   ],
   "source": [
    "import pandas as pd\n",
    "\n",
    "# Load the dataset\n",
    "df = pd.read_csv(\"new data with target class.csv\")\n",
    "\n",
    "# Drop any unnamed index column if present\n",
    "df = df.drop(columns=[\"Unnamed: 0\"], errors='ignore')\n",
    "\n",
    "# Define selected features + target class\n",
    "selected_features = [\n",
    "    'V6279', 'AVR199', 'V2237', 'V302', 'V2233', 'T_Wave', 'V3243', 'V3242',\n",
    "    'AVF00', 'QRS_Dur', 'DII177', 'V4257', 'Q-T_Int', 'V105', 'V5267',\n",
    "    'V1224', 'AVR197', 'V1228', 'V6277', 'V103', 'class'\n",
    "]\n",
    "\n",
    "# Number of random rows to extract\n",
    "num_rows = 5\n",
    "\n",
    "# Get different random rows each time\n",
    "random_samples = df[selected_features].sample(\n",
    "    num_rows).to_dict(orient='records')\n",
    "\n",
    "# Print the random rows\n",
    "for i, row in enumerate(random_samples, 1):\n",
    "    print(f\"Sample {i}:\\n{row}\\n\")"
   ]
  },
  {
   "cell_type": "code",
   "execution_count": null,
   "id": "92114685",
   "metadata": {},
   "outputs": [],
   "source": []
  },
  {
   "cell_type": "code",
   "execution_count": null,
   "id": "a5cfc9c0",
   "metadata": {},
   "outputs": [],
   "source": []
  },
  {
   "cell_type": "code",
   "execution_count": 57,
   "id": "541faed3",
   "metadata": {},
   "outputs": [],
   "source": [
    "sample_input = {'V6279': 19.5, 'AVR199': -20.5, 'V2237': 3.2, 'V302': 92.0, 'V2233': -9.0, 'T_Wave': 0.7, 'V3243': -19.3, 'V3242': 23.5, 'AVF00': 0.0, 'QRS_Dur': 123.0, 'DII177': 2.4, 'V4257': 4.0, 'Q-T_Int': 440.0, 'V105': 88.0, 'V5267': 1.9, 'V1224': 9.1, 'AVR197': -1.7, 'V1228': 30.4, 'V6277': 1.5, 'V103': 72.0\n",
    "}"
   ]
  },
  {
   "cell_type": "code",
   "execution_count": 58,
   "id": "d76cfd17",
   "metadata": {},
   "outputs": [
    {
     "name": "stdout",
     "output_type": "stream",
     "text": [
      "Predicted Class: 10.0\n"
     ]
    }
   ],
   "source": [
    "import joblib\n",
    "import pandas as pd\n",
    "\n",
    "# Load the model\n",
    "model = joblib.load(\"arrhythmia_rf_top20_model.pkl\")\n",
    "\n",
    "# Input data in DataFrame format\n",
    "input_df = pd.DataFrame([sample_input])\n",
    "\n",
    "# Predict class\n",
    "prediction = model.predict(input_df)\n",
    "print(\"Predicted Class:\", prediction[0])"
   ]
  }
 ],
 "metadata": {
  "kernelspec": {
   "display_name": "Python 3",
   "language": "python",
   "name": "python3"
  },
  "language_info": {
   "codemirror_mode": {
    "name": "ipython",
    "version": 3
   },
   "file_extension": ".py",
   "mimetype": "text/x-python",
   "name": "python",
   "nbconvert_exporter": "python",
   "pygments_lexer": "ipython3",
   "version": "3.13.4"
  }
 },
 "nbformat": 4,
 "nbformat_minor": 5
}
